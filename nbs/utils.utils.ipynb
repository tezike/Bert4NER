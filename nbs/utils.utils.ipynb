{
 "cells": [
  {
   "cell_type": "code",
   "execution_count": null,
   "metadata": {},
   "outputs": [],
   "source": [
    "#default_exp utils.utils"
   ]
  },
  {
   "cell_type": "code",
   "execution_count": null,
   "metadata": {},
   "outputs": [],
   "source": [
    "#export\n",
    "import os\n",
    "import random\n",
    "import numpy as np\n",
    "import torch\n",
    "import torch.nn as nn\n",
    "import torch.nn.functional as F\n",
    "\n",
    "import Bert4NER.config as config\n",
    "import Bert4NER.dataset.dataset as dataset"
   ]
  },
  {
   "cell_type": "code",
   "execution_count": null,
   "metadata": {},
   "outputs": [],
   "source": [
    "#export\n",
    "def seed_everything(seed=42):\n",
    "    random.seed(seed)\n",
    "    os.environ['PYTHONHASHSEED'] = str(seed)\n",
    "    np.random.seed(seed)\n",
    "    torch.manual_seed(seed)\n",
    "    torch.cuda.manual_seed(seed)\n",
    "    torch.backends.cudnn.deterministic = True"
   ]
  },
  {
   "cell_type": "code",
   "execution_count": null,
   "metadata": {},
   "outputs": [],
   "source": [
    "#export\n",
    "def create_path(path):\n",
    "    if not os.path.exists(path):\n",
    "        path.mkdir(parents=True, exist_ok=True)\n",
    "    return path"
   ]
  },
  {
   "cell_type": "code",
   "execution_count": null,
   "metadata": {},
   "outputs": [],
   "source": [
    "#export\n",
    "def process_data(df):\n",
    "    sentence_group = df.groupby('Sentence #')\n",
    "    sentences = sentence_group['Word'].apply(list).values\n",
    "    tags = sentence_group['encoded_Tag'].apply(list).values\n",
    "    pos = sentence_group['encoded_POS'].apply(list).values\n",
    "    return sentences, tags, pos"
   ]
  },
  {
   "cell_type": "code",
   "execution_count": null,
   "metadata": {},
   "outputs": [],
   "source": [
    "#export\n",
    "def create_loader(text, tags, pos, bs, drop_last=False, sampler=None, ret_dataset=False):\n",
    "    assert len(text) == len(tags) == len(pos)\n",
    "    ds = dataset.EntityDataset(texts=text, pos=pos, tags=tags)\n",
    "    if ret_dataset: return ds\n",
    "    dl = torch.utils.data.DataLoader(ds, batch_size=bs, drop_last=drop_last,\n",
    "                                        num_workers=5, sampler=sampler)\n",
    "    return dl"
   ]
  },
  {
   "cell_type": "code",
   "execution_count": null,
   "metadata": {},
   "outputs": [],
   "source": [
    "#export\n",
    "def save_label_encoders(le_tag, le_pos):\n",
    "    if (config.OUTPUT_PATH/'le_tag_encoder.bin').exists() and (config.OUTPUT_PATH/'le_pos_encoder.bin').exists():\n",
    "        print('encoders already exist')\n",
    "        return \n",
    "    torch.save(le_tag, config.OUTPUT_PATH/'le_tag_encoder.bin')\n",
    "    torch.save(le_pos, config.OUTPUT_PATH/'le_pos_encoder.bin')\n",
    "    print('encoders saved!')"
   ]
  },
  {
   "cell_type": "code",
   "execution_count": null,
   "metadata": {},
   "outputs": [],
   "source": [
    "#export\n",
    "def load_label_encoders():\n",
    "    if (config.OUTPUT_PATH/'le_tag_encoder.bin').exists() and (config.OUTPUT_PATH/'le_pos_encoder.bin').exists():\n",
    "        le_tag = torch.load(config.OUTPUT_PATH/'le_tag_encoder.bin')\n",
    "        le_pos = torch.load(config.OUTPUT_PATH/'le_pos_encoder.bin')\n",
    "        return le_tag, le_pos\n",
    "    else:\n",
    "        print(f\"No encoders exist in {str(config.OUTPUT_PATH/'le_tag_encoder.bin')} directory\")\n",
    "        return None"
   ]
  },
  {
   "cell_type": "code",
   "execution_count": null,
   "metadata": {},
   "outputs": [],
   "source": []
  }
 ],
 "metadata": {
  "kernelspec": {
   "display_name": "Python 3",
   "language": "python",
   "name": "python3"
  }
 },
 "nbformat": 4,
 "nbformat_minor": 2
}
